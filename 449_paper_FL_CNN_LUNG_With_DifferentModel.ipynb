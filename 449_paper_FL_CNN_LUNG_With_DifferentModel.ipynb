{
  "nbformat": 4,
  "nbformat_minor": 0,
  "metadata": {
    "colab": {
      "provenance": []
    },
    "kernelspec": {
      "name": "python3",
      "display_name": "Python 3"
    },
    "language_info": {
      "name": "python"
    },
    "accelerator": "GPU",
    "gpuClass": "standard"
  },
  "cells": [
    {
      "cell_type": "code",
      "execution_count": null,
      "metadata": {
        "id": "-NFfnoiheFdz"
      },
      "outputs": [],
      "source": [
        "from google.colab import drive"
      ]
    },
    {
      "cell_type": "code",
      "source": [
        "from google.colab import drive\n",
        "drive.mount('/content/drive')"
      ],
      "metadata": {
        "colab": {
          "base_uri": "https://localhost:8080/"
        },
        "id": "8nV0FrrHeXiy",
        "outputId": "6ad133b1-43ee-4876-d532-3254823749d7"
      },
      "execution_count": null,
      "outputs": [
        {
          "output_type": "stream",
          "name": "stdout",
          "text": [
            "Mounted at /content/drive\n"
          ]
        }
      ]
    },
    {
      "cell_type": "code",
      "source": [
        "!unzip /content/drive/MyDrive/federated.zip"
      ],
      "metadata": {
        "id": "XSFTLa4Weg3e"
      },
      "execution_count": null,
      "outputs": []
    },
    {
      "cell_type": "code",
      "source": [
        "import tensorflow as tf\n",
        "import gc\n",
        "gpu_devices = tf.config.experimental.list_physical_devices('GPU')\n",
        "tf.config.experimental.set_memory_growth(gpu_devices[0], True)\n",
        "\n",
        "\n",
        "#from tensorflow.keras.mixed_precision import experimental as mixed_precision\n",
        "#policy = mixed_precision.Policy('mixed_float16')\n",
        "#mixed_precision.set_policy(policy)\n",
        "#print('Compute dtype: %s' % policy.compute_dtype)\n",
        "#print('Variable dtype: %s' % policy.variable_dtype)"
      ],
      "metadata": {
        "id": "v--pZXNVeQnT"
      },
      "execution_count": null,
      "outputs": []
    },
    {
      "cell_type": "code",
      "source": [
        "import numpy as np\n",
        "import matplotlib.pyplot as plt\n",
        "import os\n",
        "import cv2\n",
        "from tqdm import tqdm\n",
        "\n",
        "DATADIR = \"/content/trainingSet\"\n",
        "\n",
        "CATEGORIES = [\"lung_aca\", \"lung_n\", \"lung_scc\"]\n",
        "\n",
        "training_data = []\n",
        "\n",
        "IMG_SIZE = 75\n",
        "\n",
        "def create_training_data():\n",
        "    for category in CATEGORIES:  # do dogs and cats\n",
        "\n",
        "        path = os.path.join(DATADIR,category)  # create path to dogs and cats\n",
        "        class_num = CATEGORIES.index(category)  # get the classification  (0 or a 1). 0=dog 1=cat\n",
        "\n",
        "        for img in tqdm(os.listdir(path)):  # iterate over each image per dogs and cats\n",
        "            try:\n",
        "                img_array = cv2.imread(os.path.join(path,img))  # convert to array\n",
        "                new_array = cv2.resize(img_array, (IMG_SIZE, IMG_SIZE))  # resize to normalize data size\n",
        "                \n",
        "                training_data.append([new_array, class_num])  # add this to our training_data\n",
        "            except Exception as e:  # in the interest in keeping the output clean...\n",
        "                print(e)\n",
        "            #except OSError as e:\n",
        "            #    print(\"OSErrroBad img most likely\", e, os.path.join(path,img))\n",
        "            #except Exception as e:\n",
        "            #    print(\"general exception\", e, os.path.join(path,img))\n",
        "\n",
        "create_training_data()\n",
        "\n",
        "print(len(training_data))\n"
      ],
      "metadata": {
        "id": "x7t4V-JxfgW5",
        "colab": {
          "base_uri": "https://localhost:8080/"
        },
        "outputId": "116878db-f594-44c0-df9c-7a22b1798324"
      },
      "execution_count": null,
      "outputs": [
        {
          "output_type": "stream",
          "name": "stderr",
          "text": [
            "100%|██████████| 2002/2002 [00:13<00:00, 146.81it/s]\n",
            "100%|██████████| 2002/2002 [00:13<00:00, 149.23it/s]\n",
            "100%|██████████| 2002/2002 [00:15<00:00, 132.31it/s]"
          ]
        },
        {
          "output_type": "stream",
          "name": "stdout",
          "text": [
            "6006\n"
          ]
        },
        {
          "output_type": "stream",
          "name": "stderr",
          "text": [
            "\n"
          ]
        }
      ]
    },
    {
      "cell_type": "code",
      "source": [
        "!unzip /content/drive/MyDrive/testSet_WithCatagory.zip"
      ],
      "metadata": {
        "id": "JLYotAdnowT2"
      },
      "execution_count": null,
      "outputs": []
    },
    {
      "cell_type": "code",
      "source": [
        "DATADIR = \"/content/testSet_WithCatagory\"\n",
        "\n",
        "CATEGORIES = [\"lung_aca\", \"lung_n\", \"lung_scc\"]\n",
        "\n",
        "testing_data = []\n",
        "\n",
        "IMG_SIZE = 75\n",
        "\n",
        "def create_training_data():\n",
        "    for category in CATEGORIES:  # do dogs and cats\n",
        "\n",
        "        path = os.path.join(DATADIR,category)  # create path to dogs and cats\n",
        "        class_num = CATEGORIES.index(category)  # get the classification  (0 or a 1). 0=dog 1=cat\n",
        "\n",
        "        for img in tqdm(os.listdir(path)):  # iterate over each image per dogs and cats\n",
        "            try:\n",
        "                img_array = cv2.imread(os.path.join(path,img))  # convert to array\n",
        "                new_array = cv2.resize(img_array, (IMG_SIZE, IMG_SIZE))  # resize to normalize data size\n",
        "                \n",
        "                testing_data.append([new_array, class_num])  # add this to our training_data\n",
        "            except Exception as e:  # in the interest in keeping the output clean...\n",
        "                print(e)\n",
        "            #except OSError as e:\n",
        "            #    print(\"OSErrroBad img most likely\", e, os.path.join(path,img))\n",
        "            #except Exception as e:\n",
        "            #    print(\"general exception\", e, os.path.join(path,img))\n",
        "\n",
        "create_training_data()"
      ],
      "metadata": {
        "id": "nBHtsUcXeoO2",
        "colab": {
          "base_uri": "https://localhost:8080/"
        },
        "outputId": "19cfb183-4976-4a5f-ee9b-ad8a836379c6"
      },
      "execution_count": null,
      "outputs": [
        {
          "output_type": "stream",
          "name": "stderr",
          "text": [
            "100%|██████████| 192/192 [00:01<00:00, 143.71it/s]\n",
            "100%|██████████| 208/208 [00:01<00:00, 150.52it/s]\n",
            "100%|██████████| 192/192 [00:01<00:00, 146.81it/s]\n"
          ]
        }
      ]
    },
    {
      "cell_type": "code",
      "source": [
        "import random\n",
        "\n",
        "random.shuffle(training_data)\n",
        "random.shuffle(testing_data)"
      ],
      "metadata": {
        "id": "8c6_3fG1pL83"
      },
      "execution_count": 37,
      "outputs": []
    },
    {
      "cell_type": "code",
      "source": [
        "X = []\n",
        "y = []\n",
        "\n",
        "for features,label in training_data:\n",
        "    X.append(features)\n",
        "    y.append(label)\n",
        "    \n",
        "\n",
        "X_train = np.array(X)\n",
        "X_train = X_train\n",
        "y_train = np.array(y)\n",
        "\n",
        "\n",
        "X_t = []\n",
        "y_t = []\n",
        "\n",
        "for features,label in testing_data:\n",
        "    X_t.append(features)\n",
        "    y_t.append(label)\n",
        "\n",
        "X_test = np.array(X_t)\n",
        "X_test = X_test\n",
        "y_test = np.array(y_t)"
      ],
      "metadata": {
        "id": "jSVn4utvpUyT"
      },
      "execution_count": 38,
      "outputs": []
    },
    {
      "cell_type": "code",
      "source": [
        "#from sklearn.model_selection import train_test_split\n",
        "#X_train, X_test, y_train, y_test = train_test_split(X, y, test_size=0.1, random_state=42)\n",
        "\n",
        "from tensorflow.keras.utils import to_categorical\n",
        "y_train = to_categorical(y_train)\n",
        "y_test = to_categorical(y_test)"
      ],
      "metadata": {
        "id": "2_lrATp3pVv-"
      },
      "execution_count": 39,
      "outputs": []
    },
    {
      "cell_type": "code",
      "source": [
        "len(X_test)"
      ],
      "metadata": {
        "id": "XbnzA4Z_pXPV",
        "colab": {
          "base_uri": "https://localhost:8080/"
        },
        "outputId": "af860f95-ad3b-4bc0-9230-a06b5ae44961"
      },
      "execution_count": 40,
      "outputs": [
        {
          "output_type": "execute_result",
          "data": {
            "text/plain": [
              "592"
            ]
          },
          "metadata": {},
          "execution_count": 40
        }
      ]
    },
    {
      "cell_type": "code",
      "source": [
        "y_train = np.array(y_train)\n",
        "y_test = np.array(y_test)"
      ],
      "metadata": {
        "id": "luagoSDppYjR"
      },
      "execution_count": 41,
      "outputs": []
    },
    {
      "cell_type": "code",
      "source": [
        "def create_clients(image_list, label_list, num_clients=10, initial='clients'):\n",
        "    ''' return: a dictionary with keys clients' names and value as \n",
        "                data shards - tuple of images and label lists.\n",
        "        args: \n",
        "            image_list: a list of numpy arrays of training images\n",
        "            label_list:a list of binarized labels for each image\n",
        "            num_client: number of fedrated members (clients)\n",
        "            initials: the clients'name prefix, e.g, clients_1 \n",
        "            \n",
        "    '''\n",
        "\n",
        "    #create a list of client names\n",
        "    client_names = ['{}_{}'.format(initial, i+1) for i in range(num_clients)]\n",
        "    \n",
        "    data = list(zip(image_list, label_list))\n",
        "\n",
        "    #shard data and place at each client\n",
        "    size = len(data)//num_clients\n",
        "    shards = [data[i:i + size] for i in range(0, size*num_clients, size)]\n",
        "\n",
        "    #number of clients must equal number of shards\n",
        "    assert(len(shards) == len(client_names))\n",
        "\n",
        "    return {client_names[i] : shards[i] for i in range(len(client_names))} "
      ],
      "metadata": {
        "id": "KWW8fU3tpacd"
      },
      "execution_count": 42,
      "outputs": []
    },
    {
      "cell_type": "code",
      "source": [
        "clients = create_clients(X_train, y_train, num_clients=10, initial='client')"
      ],
      "metadata": {
        "id": "zNRP_f2Upcla"
      },
      "execution_count": 43,
      "outputs": []
    },
    {
      "cell_type": "code",
      "source": [
        "def batch_data(data_shard, bs=64):\n",
        "    '''Takes in a clients data shard and create a tfds object off it\n",
        "    args:\n",
        "        shard: a data, label constituting a client's data shard\n",
        "        bs:batch size\n",
        "    return:\n",
        "        tfds object'''\n",
        "    #seperate shard into data and labels lists\n",
        "    data, label = zip(*data_shard)\n",
        "    dataset = tf.data.Dataset.from_tensor_slices((list(data), list(label)))\n",
        "    return dataset.shuffle(len(label)).batch(bs)"
      ],
      "metadata": {
        "id": "gcotdlHxpfg_"
      },
      "execution_count": 44,
      "outputs": []
    },
    {
      "cell_type": "code",
      "source": [
        "#process and batch the training data for each client\n",
        "clients_batched = dict()\n",
        "co = 0\n",
        "for (client_name, data) in clients.items():\n",
        "    co+=1\n",
        "    clients_batched[client_name] = batch_data(data)\n",
        "    \n",
        "   \n",
        "    \n",
        "#process and batch the test set  \n",
        "test_batched = tf.data.Dataset.from_tensor_slices((X_test, y_test)).batch(len(y_test))"
      ],
      "metadata": {
        "id": "pErHzxplphpH"
      },
      "execution_count": 45,
      "outputs": []
    },
    {
      "cell_type": "code",
      "source": [
        "test_batched"
      ],
      "metadata": {
        "id": "r-eRIetSXJEp",
        "colab": {
          "base_uri": "https://localhost:8080/"
        },
        "outputId": "a1fe4f28-38b6-4768-8e0b-6258d38ffbcc"
      },
      "execution_count": null,
      "outputs": [
        {
          "output_type": "execute_result",
          "data": {
            "text/plain": [
              "<BatchDataset element_spec=(TensorSpec(shape=(None, 75, 75, 3), dtype=tf.uint8, name=None), TensorSpec(shape=(None, 3), dtype=tf.float32, name=None))>"
            ]
          },
          "metadata": {},
          "execution_count": 18
        }
      ]
    },
    {
      "cell_type": "code",
      "source": [
        "clients_batched"
      ],
      "metadata": {
        "id": "qHnsADu4pj1s",
        "colab": {
          "base_uri": "https://localhost:8080/"
        },
        "outputId": "81473221-9dc8-4323-9ec5-c496a7bb04e6"
      },
      "execution_count": null,
      "outputs": [
        {
          "output_type": "execute_result",
          "data": {
            "text/plain": [
              "{'client_1': <BatchDataset element_spec=(TensorSpec(shape=(None, 75, 75, 3), dtype=tf.uint8, name=None), TensorSpec(shape=(None, 3), dtype=tf.float32, name=None))>,\n",
              " 'client_2': <BatchDataset element_spec=(TensorSpec(shape=(None, 75, 75, 3), dtype=tf.uint8, name=None), TensorSpec(shape=(None, 3), dtype=tf.float32, name=None))>,\n",
              " 'client_3': <BatchDataset element_spec=(TensorSpec(shape=(None, 75, 75, 3), dtype=tf.uint8, name=None), TensorSpec(shape=(None, 3), dtype=tf.float32, name=None))>,\n",
              " 'client_4': <BatchDataset element_spec=(TensorSpec(shape=(None, 75, 75, 3), dtype=tf.uint8, name=None), TensorSpec(shape=(None, 3), dtype=tf.float32, name=None))>,\n",
              " 'client_5': <BatchDataset element_spec=(TensorSpec(shape=(None, 75, 75, 3), dtype=tf.uint8, name=None), TensorSpec(shape=(None, 3), dtype=tf.float32, name=None))>,\n",
              " 'client_6': <BatchDataset element_spec=(TensorSpec(shape=(None, 75, 75, 3), dtype=tf.uint8, name=None), TensorSpec(shape=(None, 3), dtype=tf.float32, name=None))>,\n",
              " 'client_7': <BatchDataset element_spec=(TensorSpec(shape=(None, 75, 75, 3), dtype=tf.uint8, name=None), TensorSpec(shape=(None, 3), dtype=tf.float32, name=None))>,\n",
              " 'client_8': <BatchDataset element_spec=(TensorSpec(shape=(None, 75, 75, 3), dtype=tf.uint8, name=None), TensorSpec(shape=(None, 3), dtype=tf.float32, name=None))>,\n",
              " 'client_9': <BatchDataset element_spec=(TensorSpec(shape=(None, 75, 75, 3), dtype=tf.uint8, name=None), TensorSpec(shape=(None, 3), dtype=tf.float32, name=None))>,\n",
              " 'client_10': <BatchDataset element_spec=(TensorSpec(shape=(None, 75, 75, 3), dtype=tf.uint8, name=None), TensorSpec(shape=(None, 3), dtype=tf.float32, name=None))>}"
            ]
          },
          "metadata": {},
          "execution_count": 19
        }
      ]
    },
    {
      "cell_type": "code",
      "source": [
        "del(X_train)\n",
        "del(y_train)\n",
        "del(training_data)"
      ],
      "metadata": {
        "id": "Dhu34vkaptef"
      },
      "execution_count": null,
      "outputs": []
    },
    {
      "cell_type": "code",
      "source": [
        "from tensorflow.keras.models import Model, Sequential\n",
        "from tensorflow.keras.layers import Dense, Flatten, Dropout\n",
        "from tensorflow.keras.applications.vgg19 import VGG19\n",
        "from tensorflow.keras.applications.vgg19 import preprocess_input, decode_predictions\n",
        "from tensorflow.keras.applications.inception_v3 import InceptionV3\n",
        "from tensorflow.keras.applications.densenet import DenseNet121\n",
        "from tensorflow.keras.preprocessing.image import ImageDataGenerator\n",
        "from tensorflow.keras.optimizers import Adam, RMSprop\n",
        "from tensorflow import keras\n",
        "from tensorflow.keras import layers\n",
        "\n",
        "\n",
        "class SimpleModel:\n",
        "    def build(self):\n",
        "        model = VGG19(include_top=False,input_shape=(75, 75, 3), weights='imagenet')\n",
        "        transfer_layer = model.get_layer('block5_pool')\n",
        "        conv_model = Model(inputs=model.input, outputs=transfer_layer.output)\n",
        "        # Start a new Keras Sequential model.\n",
        "        new_model = Sequential()\n",
        "\n",
        "        # Add the convolutional part of the VGG16 model from above.\n",
        "        new_model.add(conv_model)\n",
        "\n",
        "        # Flatten the output of the VGG16 model because it is from a\n",
        "        # convolutional layer.\n",
        "        new_model.add(Flatten())\n",
        "\n",
        "        # Add a dense (aka. fully-connected) layer.\n",
        "        # This is for combining features that the VGG16 model has\n",
        "        # recognized in the image.\n",
        "\n",
        "        new_model.add(Dense(512, activation='relu'))\n",
        "\n",
        "\n",
        "        # Add the final layer for the actual classification.\n",
        "        new_model.add(Dense(3, activation='softmax'))\n",
        "        \n",
        "        model1 = InceptionV3(include_top=False,input_shape=(75, 75, 3), weights='imagenet')\n",
        "        transfer_layer1 = model1.get_layer('mixed10')\n",
        "        conv_model1 = Model(inputs=model1.input, outputs=transfer_layer1.output)\n",
        "        new_model1 = Sequential()\n",
        "\n",
        "        new_model1.add(conv_model1)\n",
        "\n",
        "        new_model1.add(Flatten())\n",
        "\n",
        "        #new_model1.add(Dropout(0.5))\n",
        "\n",
        "        new_model1.add(Dense(512, activation='relu'))\n",
        "\n",
        "        # Add the final layer for the actual classification.\n",
        "        new_model1.add(Dense(3, activation='softmax'))\n",
        "        \n",
        "        \n",
        "        \n",
        "        \n",
        "        model1 = DenseNet121(include_top=False,input_shape=(75, 75, 3), weights='imagenet')\n",
        "        transfer_layer1 = model1.get_layer('bn')\n",
        "        conv_model2 = Model(inputs=model1.input, outputs=transfer_layer1.output)\n",
        "        new_model2 = Sequential()\n",
        "\n",
        "        new_model2.add(conv_model1)\n",
        "\n",
        "        new_model2.add(Flatten())\n",
        "\n",
        "        #new_model1.add(Dropout(0.5))\n",
        "\n",
        "        new_model2.add(Dense(512, activation='relu'))\n",
        "\n",
        "        # Add the final layer for the actual classification.\n",
        "        new_model2.add(Dense(3, activation='softmax'))\n",
        "        \n",
        "        inputs = keras.Input(shape=(75,75,3))\n",
        "        \n",
        "        outputs = layers.average([new_model(inputs),new_model1(inputs),new_model2(inputs)])\n",
        "        ensemble_model = keras.Model(inputs=inputs, outputs=outputs)\n",
        "        \n",
        "        \n",
        "        return ensemble_model\n",
        "        "
      ],
      "metadata": {
        "id": "A4hMJJoW-WK0"
      },
      "execution_count": 46,
      "outputs": []
    },
    {
      "cell_type": "code",
      "source": [
        "from tensorflow.keras.optimizers import SGD\n",
        "optimizer = Adam(lr=.00001)\n",
        "loss = 'categorical_crossentropy'\n",
        "metrics = ['categorical_accuracy']"
      ],
      "metadata": {
        "id": "GAD2lQAdp1Yu"
      },
      "execution_count": 47,
      "outputs": []
    },
    {
      "cell_type": "code",
      "source": [
        "def weight_scalling_factor(clients_trn_data, client_name):\n",
        "    client_names = list(clients_trn_data.keys())\n",
        "    #get the bs\n",
        "    bs = list(clients_trn_data[client_name])[0][0].shape[0]\n",
        "    #first calculate the total training data points across clinets\n",
        "    global_count = sum([tf.data.experimental.cardinality(clients_trn_data[client_name]).numpy() for client_name in client_names])*bs\n",
        "    print(global_count)\n",
        "    # get the total number of data points held by a client\n",
        "    local_count = tf.data.experimental.cardinality(clients_trn_data[client_name]).numpy()*bs\n",
        "    return local_count/global_count\n",
        "\n",
        "\n",
        "def scale_model_weights(weight, scalar):\n",
        "    '''function for scaling a models weights'''\n",
        "    weight_final = []\n",
        "    steps = len(weight)\n",
        "    for i in range(steps):\n",
        "        weight_final.append(scalar * weight[i])\n",
        "    return weight_final\n",
        "\n",
        "\n",
        "\n",
        "def sum_scaled_weights(scaled_weight_list):\n",
        "    '''Return the sum of the listed scaled weights. The is equivalent to scaled avg of the weights'''\n",
        "    avg_grad = list()\n",
        "    #get the average grad accross all client gradients\n",
        "    for grad_list_tuple in zip(*scaled_weight_list):\n",
        "        layer_mean = tf.math.reduce_sum(grad_list_tuple, axis=0)\n",
        "        avg_grad.append(layer_mean)\n",
        "        \n",
        "    return avg_grad\n",
        "\n",
        "\n",
        "def test_model(X_test, Y_test,  model, comm_round):\n",
        "    cce = tf.keras.losses.CategoricalCrossentropy(from_logits=True)\n",
        "    #logits = model.predict(X_test, batch_size=100)\n",
        "    logits = model.predict(X_test)\n",
        "    loss = cce(Y_test, logits)\n",
        "    acc = accuracy_score(tf.argmax(logits, axis=1), tf.argmax(Y_test, axis=1))\n",
        "    print('comm_round: {} | global_acc: {:.3%} | global_loss: {}'.format(comm_round, acc, loss))\n",
        "    return acc, loss"
      ],
      "metadata": {
        "id": "dMxwqAUYp33M"
      },
      "execution_count": 48,
      "outputs": []
    },
    {
      "cell_type": "code",
      "source": [
        "smlp_global = SimpleModel()\n",
        "global_model = smlp_global.build()\n",
        "from tensorflow.keras import backend as K\n",
        "from sklearn.metrics import accuracy_score\n",
        "\n",
        "local_model = smlp_global.build()\n",
        "local_model.compile(optimizer= 'adam', loss=loss, metrics=metrics)"
      ],
      "metadata": {
        "id": "KoLopF76p6fY",
        "colab": {
          "base_uri": "https://localhost:8080/"
        },
        "outputId": "e311afa5-e918-4342-9b70-75774d7e3f66"
      },
      "execution_count": 49,
      "outputs": [
        {
          "output_type": "stream",
          "name": "stdout",
          "text": [
            "Downloading data from https://storage.googleapis.com/tensorflow/keras-applications/vgg19/vgg19_weights_tf_dim_ordering_tf_kernels_notop.h5\n",
            "80134624/80134624 [==============================] - 3s 0us/step\n",
            "Downloading data from https://storage.googleapis.com/tensorflow/keras-applications/inception_v3/inception_v3_weights_tf_dim_ordering_tf_kernels_notop.h5\n",
            "87910968/87910968 [==============================] - 3s 0us/step\n",
            "Downloading data from https://storage.googleapis.com/tensorflow/keras-applications/densenet/densenet121_weights_tf_dim_ordering_tf_kernels_notop.h5\n",
            "29084464/29084464 [==============================] - 1s 0us/step\n"
          ]
        }
      ]
    },
    {
      "cell_type": "code",
      "source": [
        "import multiprocessing\n",
        "comms_round = 20\n",
        "for comm_round in range(comms_round):\n",
        "            \n",
        "    # get the global model's weights - will serve as the initial weights for all local models\n",
        "    \n",
        "    \n",
        "    global_weights = global_model.get_weights()\n",
        "    \n",
        "    #initial list to collect local model weights after scalling\n",
        "    scaled_local_weight_list = list()\n",
        "\n",
        "    #randomize client data - using keys\n",
        "    client_names= list(clients_batched.keys())\n",
        "    \n",
        "    #random.shuffle(client_names)\n",
        "    \n",
        "    #loop through each client and create new local model\n",
        "    count = 0\n",
        "    for client in client_names:\n",
        "        \n",
        "        #set local model weight to the weight of the global model\n",
        "        local_model.set_weights(global_weights)\n",
        "        \n",
        "        #fit local model with client's data\n",
        "        local_model.fit(clients_batched[client], epochs=1, verbose=1)\n",
        "        test_model(X_test, y_test, local_model, comm_round)\n",
        "        #scale the model weights and add to list\n",
        "        scaling_factor = weight_scalling_factor(clients_batched, client)\n",
        "        scaled_weights = scale_model_weights(local_model.get_weights(), scaling_factor)\n",
        "        scaled_local_weight_list.append(scaled_weights)\n",
        "        \n",
        "        #clear session to free memory after each communication round\n",
        "        \n",
        "        #K.clear_session()\n",
        "        #gc.collect()\n",
        "        #del local_model\n",
        "    \n",
        "        \n",
        "    #to get the average over all the local model, we simply take the sum of the scaled weights\n",
        "    average_weights = sum_scaled_weights(scaled_local_weight_list)\n",
        "    \n",
        "    #update global model \n",
        "    global_model.set_weights(average_weights)\n",
        "\n",
        "    #test global model and print out metrics after each communications round\n",
        "    for(X_test, Y_test) in test_batched:\n",
        "        global_acc, global_loss = test_model(X_test, Y_test, global_model, comm_round)"
      ],
      "metadata": {
        "id": "HsXSPtRap9RE",
        "colab": {
          "base_uri": "https://localhost:8080/"
        },
        "outputId": "a5f04d14-8a3e-436d-c8fb-4a9c334e5ede"
      },
      "execution_count": 50,
      "outputs": [
        {
          "output_type": "stream",
          "name": "stdout",
          "text": [
            "10/10 [==============================] - 30s 573ms/step - loss: 1.0905 - categorical_accuracy: 0.4633\n",
            "19/19 [==============================] - 6s 114ms/step\n",
            "comm_round: 0 | global_acc: 32.432% | global_loss: 1.0986121892929077\n",
            "6400\n",
            "10/10 [==============================] - 2s 247ms/step - loss: 0.9061 - categorical_accuracy: 0.5517\n",
            "19/19 [==============================] - 1s 51ms/step\n",
            "comm_round: 0 | global_acc: 33.953% | global_loss: 1.1179436445236206\n",
            "6400\n",
            "10/10 [==============================] - 3s 255ms/step - loss: 0.8436 - categorical_accuracy: 0.6067\n",
            "19/19 [==============================] - 1s 53ms/step\n",
            "comm_round: 0 | global_acc: 35.135% | global_loss: 1.1255894899368286\n",
            "6400\n",
            "10/10 [==============================] - 2s 247ms/step - loss: 0.8327 - categorical_accuracy: 0.6067\n",
            "19/19 [==============================] - 1s 50ms/step\n",
            "comm_round: 0 | global_acc: 33.108% | global_loss: 1.098611831665039\n",
            "6400\n",
            "10/10 [==============================] - 2s 247ms/step - loss: 0.8048 - categorical_accuracy: 0.6550\n",
            "19/19 [==============================] - 1s 50ms/step\n",
            "comm_round: 0 | global_acc: 35.135% | global_loss: 1.1263028383255005\n",
            "6400\n",
            "10/10 [==============================] - 2s 247ms/step - loss: 1.0166 - categorical_accuracy: 0.4600\n",
            "19/19 [==============================] - 1s 51ms/step\n",
            "comm_round: 0 | global_acc: 35.135% | global_loss: 1.1991537809371948\n",
            "6400\n",
            "10/10 [==============================] - 2s 248ms/step - loss: 0.7959 - categorical_accuracy: 0.6483\n",
            "19/19 [==============================] - 1s 51ms/step\n",
            "comm_round: 0 | global_acc: 35.135% | global_loss: 1.1263020038604736\n",
            "6400\n",
            "10/10 [==============================] - 3s 249ms/step - loss: 0.8421 - categorical_accuracy: 0.6050\n",
            "19/19 [==============================] - 1s 50ms/step\n",
            "comm_round: 0 | global_acc: 35.135% | global_loss: 1.126302719116211\n",
            "6400\n",
            "10/10 [==============================] - 3s 253ms/step - loss: 0.8970 - categorical_accuracy: 0.5667\n",
            "19/19 [==============================] - 1s 52ms/step\n",
            "comm_round: 0 | global_acc: 30.912% | global_loss: 1.0974534749984741\n",
            "6400\n",
            "10/10 [==============================] - 3s 251ms/step - loss: 0.7505 - categorical_accuracy: 0.7083\n",
            "19/19 [==============================] - 1s 51ms/step\n",
            "comm_round: 0 | global_acc: 33.446% | global_loss: 1.1097770929336548\n",
            "6400\n",
            "19/19 [==============================] - 3s 52ms/step\n",
            "comm_round: 0 | global_acc: 32.939% | global_loss: 1.1660351753234863\n",
            "10/10 [==============================] - 2s 244ms/step - loss: 0.5209 - categorical_accuracy: 0.8867\n",
            "19/19 [==============================] - 1s 50ms/step\n",
            "comm_round: 1 | global_acc: 34.797% | global_loss: 1.1119273900985718\n",
            "6400\n",
            "10/10 [==============================] - 2s 245ms/step - loss: 0.4363 - categorical_accuracy: 0.9250\n",
            "19/19 [==============================] - 1s 50ms/step\n",
            "comm_round: 1 | global_acc: 35.135% | global_loss: 1.1262568235397339\n",
            "6400\n",
            "10/10 [==============================] - 2s 246ms/step - loss: 0.4708 - categorical_accuracy: 0.9067\n",
            "19/19 [==============================] - 1s 50ms/step\n",
            "comm_round: 1 | global_acc: 32.601% | global_loss: 1.1329739093780518\n",
            "6400\n",
            "10/10 [==============================] - 2s 247ms/step - loss: 0.4781 - categorical_accuracy: 0.9067\n",
            "19/19 [==============================] - 1s 50ms/step\n",
            "comm_round: 1 | global_acc: 31.419% | global_loss: 1.1329399347305298\n",
            "6400\n",
            "10/10 [==============================] - 2s 247ms/step - loss: 0.4369 - categorical_accuracy: 0.9250\n",
            "19/19 [==============================] - 1s 50ms/step\n",
            "comm_round: 1 | global_acc: 35.135% | global_loss: 1.1999661922454834\n",
            "6400\n",
            "10/10 [==============================] - 2s 248ms/step - loss: 0.4234 - categorical_accuracy: 0.9350\n",
            "19/19 [==============================] - 1s 51ms/step\n",
            "comm_round: 1 | global_acc: 35.135% | global_loss: 1.2000898122787476\n",
            "6400\n",
            "10/10 [==============================] - 2s 248ms/step - loss: 0.4545 - categorical_accuracy: 0.9267\n",
            "19/19 [==============================] - 1s 51ms/step\n",
            "comm_round: 1 | global_acc: 35.135% | global_loss: 1.200042724609375\n",
            "6400\n",
            "10/10 [==============================] - 2s 249ms/step - loss: 0.5616 - categorical_accuracy: 0.9033\n",
            "19/19 [==============================] - 1s 51ms/step\n",
            "comm_round: 1 | global_acc: 32.432% | global_loss: 1.1353118419647217\n",
            "6400\n",
            "10/10 [==============================] - 2s 249ms/step - loss: 0.4898 - categorical_accuracy: 0.8967\n",
            "19/19 [==============================] - 1s 51ms/step\n",
            "comm_round: 1 | global_acc: 35.473% | global_loss: 1.1247364282608032\n",
            "6400\n",
            "10/10 [==============================] - 2s 249ms/step - loss: 0.4342 - categorical_accuracy: 0.9133\n",
            "19/19 [==============================] - 1s 50ms/step\n",
            "comm_round: 1 | global_acc: 42.399% | global_loss: 1.0956203937530518\n",
            "6400\n",
            "19/19 [==============================] - 1s 52ms/step\n",
            "comm_round: 1 | global_acc: 35.135% | global_loss: 1.1228896379470825\n",
            "10/10 [==============================] - 2s 243ms/step - loss: 0.4014 - categorical_accuracy: 0.9417\n",
            "19/19 [==============================] - 1s 50ms/step\n",
            "comm_round: 2 | global_acc: 37.331% | global_loss: 1.164750337600708\n",
            "6400\n",
            "10/10 [==============================] - 2s 243ms/step - loss: 0.3439 - categorical_accuracy: 0.9667\n",
            "19/19 [==============================] - 1s 49ms/step\n",
            "comm_round: 2 | global_acc: 43.243% | global_loss: 1.0828008651733398\n",
            "6400\n",
            "10/10 [==============================] - 2s 245ms/step - loss: 0.3812 - categorical_accuracy: 0.9600\n",
            "19/19 [==============================] - 1s 50ms/step\n",
            "comm_round: 2 | global_acc: 35.135% | global_loss: 1.1997398138046265\n",
            "6400\n",
            "10/10 [==============================] - 2s 246ms/step - loss: 0.3699 - categorical_accuracy: 0.9567\n",
            "19/19 [==============================] - 1s 50ms/step\n",
            "comm_round: 2 | global_acc: 43.750% | global_loss: 1.0809087753295898\n",
            "6400\n",
            "10/10 [==============================] - 2s 247ms/step - loss: 0.3478 - categorical_accuracy: 0.9650\n",
            "19/19 [==============================] - 1s 50ms/step\n",
            "comm_round: 2 | global_acc: 35.135% | global_loss: 1.1999404430389404\n",
            "6400\n",
            "10/10 [==============================] - 2s 248ms/step - loss: 0.3680 - categorical_accuracy: 0.9717\n",
            "19/19 [==============================] - 1s 51ms/step\n",
            "comm_round: 2 | global_acc: 28.378% | global_loss: 1.1369727849960327\n",
            "6400\n",
            "10/10 [==============================] - 2s 248ms/step - loss: 0.5567 - categorical_accuracy: 0.8700\n",
            "19/19 [==============================] - 1s 50ms/step\n",
            "comm_round: 2 | global_acc: 32.264% | global_loss: 1.1356098651885986\n",
            "6400\n",
            "10/10 [==============================] - 2s 248ms/step - loss: 0.3491 - categorical_accuracy: 0.9733\n",
            "19/19 [==============================] - 1s 50ms/step\n",
            "comm_round: 2 | global_acc: 35.135% | global_loss: 1.2000935077667236\n",
            "6400\n",
            "10/10 [==============================] - 2s 249ms/step - loss: 0.3652 - categorical_accuracy: 0.9550\n",
            "19/19 [==============================] - 1s 50ms/step\n",
            "comm_round: 2 | global_acc: 35.135% | global_loss: 1.1980388164520264\n",
            "6400\n",
            "10/10 [==============================] - 2s 248ms/step - loss: 0.3876 - categorical_accuracy: 0.9400\n",
            "19/19 [==============================] - 1s 51ms/step\n",
            "comm_round: 2 | global_acc: 36.655% | global_loss: 1.1438602209091187\n",
            "6400\n",
            "19/19 [==============================] - 1s 53ms/step\n",
            "comm_round: 2 | global_acc: 35.642% | global_loss: 1.1266758441925049\n",
            "10/10 [==============================] - 2s 244ms/step - loss: 0.3625 - categorical_accuracy: 0.9683\n",
            "19/19 [==============================] - 1s 49ms/step\n",
            "comm_round: 3 | global_acc: 35.304% | global_loss: 1.185585618019104\n",
            "6400\n",
            "10/10 [==============================] - 2s 246ms/step - loss: 0.3542 - categorical_accuracy: 0.9717\n",
            "19/19 [==============================] - 1s 50ms/step\n",
            "comm_round: 3 | global_acc: 35.135% | global_loss: 1.126827597618103\n",
            "6400\n",
            "10/10 [==============================] - 2s 245ms/step - loss: 0.3626 - categorical_accuracy: 0.9650\n",
            "19/19 [==============================] - 1s 51ms/step\n",
            "comm_round: 3 | global_acc: 35.135% | global_loss: 1.1924442052841187\n",
            "6400\n",
            "10/10 [==============================] - 2s 247ms/step - loss: 0.3178 - categorical_accuracy: 0.9850\n",
            "19/19 [==============================] - 1s 50ms/step\n",
            "comm_round: 3 | global_acc: 37.500% | global_loss: 1.127916693687439\n",
            "6400\n",
            "10/10 [==============================] - 2s 247ms/step - loss: 0.3220 - categorical_accuracy: 0.9650\n",
            "19/19 [==============================] - 1s 50ms/step\n",
            "comm_round: 3 | global_acc: 35.642% | global_loss: 1.1535996198654175\n",
            "6400\n",
            "10/10 [==============================] - 2s 248ms/step - loss: 0.2977 - categorical_accuracy: 0.9883\n",
            "19/19 [==============================] - 1s 50ms/step\n",
            "comm_round: 3 | global_acc: 36.149% | global_loss: 1.146255612373352\n",
            "6400\n",
            "10/10 [==============================] - 2s 248ms/step - loss: 0.3150 - categorical_accuracy: 0.9817\n",
            "19/19 [==============================] - 1s 52ms/step\n",
            "comm_round: 3 | global_acc: 39.189% | global_loss: 1.0877193212509155\n",
            "6400\n",
            "10/10 [==============================] - 3s 254ms/step - loss: 0.4217 - categorical_accuracy: 0.9567\n",
            "19/19 [==============================] - 1s 57ms/step\n",
            "comm_round: 3 | global_acc: 35.135% | global_loss: 1.197972297668457\n",
            "6400\n",
            "10/10 [==============================] - 2s 249ms/step - loss: 0.3887 - categorical_accuracy: 0.9550\n",
            "19/19 [==============================] - 1s 50ms/step\n",
            "comm_round: 3 | global_acc: 41.216% | global_loss: 1.1039990186691284\n",
            "6400\n",
            "10/10 [==============================] - 2s 248ms/step - loss: 0.3490 - categorical_accuracy: 0.9700\n",
            "19/19 [==============================] - 1s 51ms/step\n",
            "comm_round: 3 | global_acc: 35.135% | global_loss: 1.118183970451355\n",
            "6400\n",
            "19/19 [==============================] - 1s 52ms/step\n",
            "comm_round: 3 | global_acc: 36.318% | global_loss: 1.1265949010849\n",
            "10/10 [==============================] - 2s 245ms/step - loss: 0.3639 - categorical_accuracy: 0.9667\n",
            "19/19 [==============================] - 1s 50ms/step\n",
            "comm_round: 4 | global_acc: 70.946% | global_loss: 0.9352229237556458\n",
            "6400\n",
            "10/10 [==============================] - 2s 246ms/step - loss: 0.3059 - categorical_accuracy: 0.9883\n",
            "19/19 [==============================] - 1s 49ms/step\n",
            "comm_round: 4 | global_acc: 56.081% | global_loss: 1.0068442821502686\n",
            "6400\n",
            "10/10 [==============================] - 2s 245ms/step - loss: 0.3610 - categorical_accuracy: 0.9617\n",
            "19/19 [==============================] - 1s 50ms/step\n",
            "comm_round: 4 | global_acc: 34.966% | global_loss: 1.1236250400543213\n",
            "6400\n",
            "10/10 [==============================] - 2s 246ms/step - loss: 0.3738 - categorical_accuracy: 0.9550\n",
            "19/19 [==============================] - 1s 50ms/step\n",
            "comm_round: 4 | global_acc: 35.642% | global_loss: 1.1234891414642334\n",
            "6400\n",
            "10/10 [==============================] - 2s 248ms/step - loss: 0.2860 - categorical_accuracy: 0.9900\n",
            "19/19 [==============================] - 1s 50ms/step\n",
            "comm_round: 4 | global_acc: 36.655% | global_loss: 1.1119048595428467\n",
            "6400\n",
            "10/10 [==============================] - 2s 248ms/step - loss: 0.3040 - categorical_accuracy: 0.9833\n",
            "19/19 [==============================] - 1s 50ms/step\n",
            "comm_round: 4 | global_acc: 41.892% | global_loss: 1.0827597379684448\n",
            "6400\n",
            "10/10 [==============================] - 2s 249ms/step - loss: 0.3018 - categorical_accuracy: 0.9933\n",
            "19/19 [==============================] - 1s 50ms/step\n",
            "comm_round: 4 | global_acc: 51.689% | global_loss: 1.0261166095733643\n",
            "6400\n",
            "10/10 [==============================] - 3s 250ms/step - loss: 0.3097 - categorical_accuracy: 0.9883\n",
            "19/19 [==============================] - 1s 51ms/step\n",
            "comm_round: 4 | global_acc: 34.122% | global_loss: 1.1113498210906982\n",
            "6400\n",
            "10/10 [==============================] - 3s 250ms/step - loss: 0.3132 - categorical_accuracy: 0.9867\n",
            "19/19 [==============================] - 1s 51ms/step\n",
            "comm_round: 4 | global_acc: 42.230% | global_loss: 1.1015141010284424\n",
            "6400\n",
            "10/10 [==============================] - 2s 248ms/step - loss: 0.3057 - categorical_accuracy: 0.9850\n",
            "19/19 [==============================] - 1s 51ms/step\n",
            "comm_round: 4 | global_acc: 45.777% | global_loss: 1.0625331401824951\n",
            "6400\n",
            "19/19 [==============================] - 1s 52ms/step\n",
            "comm_round: 4 | global_acc: 53.209% | global_loss: 1.0571002960205078\n",
            "10/10 [==============================] - 2s 248ms/step - loss: 0.3345 - categorical_accuracy: 0.9833\n",
            "19/19 [==============================] - 1s 51ms/step\n",
            "comm_round: 5 | global_acc: 56.081% | global_loss: 0.9866078495979309\n",
            "6400\n",
            "10/10 [==============================] - 3s 252ms/step - loss: 0.3751 - categorical_accuracy: 0.9717\n",
            "19/19 [==============================] - 1s 50ms/step\n",
            "comm_round: 5 | global_acc: 59.797% | global_loss: 0.9709528088569641\n",
            "6400\n",
            "10/10 [==============================] - 2s 246ms/step - loss: 0.3087 - categorical_accuracy: 0.9850\n",
            "19/19 [==============================] - 1s 50ms/step\n",
            "comm_round: 5 | global_acc: 47.128% | global_loss: 1.0326342582702637\n",
            "6400\n",
            "10/10 [==============================] - 2s 247ms/step - loss: 0.2924 - categorical_accuracy: 0.9967\n",
            "19/19 [==============================] - 1s 50ms/step\n",
            "comm_round: 5 | global_acc: 54.392% | global_loss: 1.0022928714752197\n",
            "6400\n",
            "10/10 [==============================] - 2s 248ms/step - loss: 0.2647 - categorical_accuracy: 0.9950\n",
            "19/19 [==============================] - 1s 51ms/step\n",
            "comm_round: 5 | global_acc: 60.642% | global_loss: 0.9734306335449219\n",
            "6400\n",
            "10/10 [==============================] - 3s 265ms/step - loss: 0.3143 - categorical_accuracy: 0.9850\n",
            "19/19 [==============================] - 1s 51ms/step\n",
            "comm_round: 5 | global_acc: 58.784% | global_loss: 0.9819630980491638\n",
            "6400\n",
            "10/10 [==============================] - 2s 249ms/step - loss: 0.3332 - categorical_accuracy: 0.9767\n",
            "19/19 [==============================] - 1s 50ms/step\n",
            "comm_round: 5 | global_acc: 43.412% | global_loss: 1.0605827569961548\n",
            "6400\n",
            "10/10 [==============================] - 2s 249ms/step - loss: 0.3050 - categorical_accuracy: 0.9850\n",
            "19/19 [==============================] - 1s 51ms/step\n",
            "comm_round: 5 | global_acc: 48.649% | global_loss: 1.02174973487854\n",
            "6400\n",
            "10/10 [==============================] - 3s 250ms/step - loss: 0.3461 - categorical_accuracy: 0.9783\n",
            "19/19 [==============================] - 1s 51ms/step\n",
            "comm_round: 5 | global_acc: 62.669% | global_loss: 1.0572307109832764\n",
            "6400\n",
            "10/10 [==============================] - 2s 248ms/step - loss: 0.3593 - categorical_accuracy: 0.9700\n",
            "19/19 [==============================] - 1s 51ms/step\n",
            "comm_round: 5 | global_acc: 37.838% | global_loss: 1.118181586265564\n",
            "6400\n",
            "19/19 [==============================] - 1s 51ms/step\n",
            "comm_round: 5 | global_acc: 56.250% | global_loss: 0.9895864129066467\n",
            "10/10 [==============================] - 2s 244ms/step - loss: 0.3179 - categorical_accuracy: 0.9883\n",
            "19/19 [==============================] - 1s 49ms/step\n",
            "comm_round: 6 | global_acc: 54.392% | global_loss: 1.0307002067565918\n",
            "6400\n",
            "10/10 [==============================] - 3s 253ms/step - loss: 0.3326 - categorical_accuracy: 0.9867\n",
            "19/19 [==============================] - 1s 49ms/step\n",
            "comm_round: 6 | global_acc: 46.453% | global_loss: 1.0399285554885864\n",
            "6400\n",
            "10/10 [==============================] - 2s 246ms/step - loss: 0.3392 - categorical_accuracy: 0.9617\n",
            "19/19 [==============================] - 1s 51ms/step\n",
            "comm_round: 6 | global_acc: 53.209% | global_loss: 1.0008893013000488\n",
            "6400\n",
            "10/10 [==============================] - 2s 248ms/step - loss: 0.2875 - categorical_accuracy: 0.9933\n",
            "19/19 [==============================] - 1s 51ms/step\n",
            "comm_round: 6 | global_acc: 76.520% | global_loss: 0.8520181179046631\n",
            "6400\n",
            "10/10 [==============================] - 2s 248ms/step - loss: 0.2558 - categorical_accuracy: 1.0000\n",
            "19/19 [==============================] - 1s 51ms/step\n",
            "comm_round: 6 | global_acc: 76.351% | global_loss: 0.8920669555664062\n",
            "6400\n",
            "10/10 [==============================] - 2s 248ms/step - loss: 0.2700 - categorical_accuracy: 0.9950\n",
            "19/19 [==============================] - 1s 51ms/step\n",
            "comm_round: 6 | global_acc: 66.892% | global_loss: 0.9272527694702148\n",
            "6400\n",
            "10/10 [==============================] - 2s 249ms/step - loss: 0.2994 - categorical_accuracy: 0.9933\n",
            "19/19 [==============================] - 1s 51ms/step\n",
            "comm_round: 6 | global_acc: 57.432% | global_loss: 0.9728624224662781\n",
            "6400\n",
            "10/10 [==============================] - 3s 253ms/step - loss: 0.3276 - categorical_accuracy: 0.9783\n",
            "19/19 [==============================] - 1s 53ms/step\n",
            "comm_round: 6 | global_acc: 52.365% | global_loss: 1.027415156364441\n",
            "6400\n",
            "10/10 [==============================] - 3s 254ms/step - loss: 0.3337 - categorical_accuracy: 0.9733\n",
            "19/19 [==============================] - 1s 51ms/step\n",
            "comm_round: 6 | global_acc: 73.311% | global_loss: 0.9077171087265015\n",
            "6400\n",
            "10/10 [==============================] - 2s 249ms/step - loss: 0.2932 - categorical_accuracy: 0.9917\n",
            "19/19 [==============================] - 1s 51ms/step\n",
            "comm_round: 6 | global_acc: 60.980% | global_loss: 0.9729164838790894\n",
            "6400\n",
            "19/19 [==============================] - 1s 52ms/step\n",
            "comm_round: 6 | global_acc: 58.615% | global_loss: 0.9671174883842468\n",
            "10/10 [==============================] - 2s 245ms/step - loss: 0.3921 - categorical_accuracy: 0.9450\n",
            "19/19 [==============================] - 1s 50ms/step\n",
            "comm_round: 7 | global_acc: 79.392% | global_loss: 0.8557619452476501\n",
            "6400\n",
            "10/10 [==============================] - 2s 245ms/step - loss: 0.3175 - categorical_accuracy: 0.9900\n",
            "19/19 [==============================] - 1s 50ms/step\n",
            "comm_round: 7 | global_acc: 76.689% | global_loss: 0.8708370327949524\n",
            "6400\n",
            "10/10 [==============================] - 2s 245ms/step - loss: 0.3080 - categorical_accuracy: 0.9767\n",
            "19/19 [==============================] - 1s 50ms/step\n",
            "comm_round: 7 | global_acc: 80.236% | global_loss: 0.8567691445350647\n",
            "6400\n",
            "10/10 [==============================] - 2s 247ms/step - loss: 0.3298 - categorical_accuracy: 0.9817\n",
            "19/19 [==============================] - 1s 50ms/step\n",
            "comm_round: 7 | global_acc: 71.453% | global_loss: 0.9142495393753052\n",
            "6400\n",
            "10/10 [==============================] - 2s 248ms/step - loss: 0.3998 - categorical_accuracy: 0.9433\n",
            "19/19 [==============================] - 1s 51ms/step\n",
            "comm_round: 7 | global_acc: 50.845% | global_loss: 1.010947346687317\n",
            "6400\n",
            "10/10 [==============================] - 3s 250ms/step - loss: 0.3128 - categorical_accuracy: 0.9750\n",
            "19/19 [==============================] - 1s 51ms/step\n",
            "comm_round: 7 | global_acc: 59.122% | global_loss: 0.966729462146759\n",
            "6400\n",
            " 8/10 [=======================>......] - ETA: 0s - loss: 0.4001 - categorical_accuracy: 0.9453"
          ]
        },
        {
          "output_type": "stream",
          "name": "stderr",
          "text": [
            "\n",
            "KeyboardInterrupt\n",
            "\n"
          ]
        }
      ]
    },
    {
      "cell_type": "code",
      "source": [
        "# Plot the confusion matrix. Set Normalize = True/False\n",
        "\n",
        "def plot_confusion_matrix(cm, classes, normalize=False, title='Confusion matrix', cmap=plt.cm.Blues):\n",
        "\n",
        "    \"\"\"\n",
        "    This function prints and plots the confusion matrix.\n",
        "    Normalization can be applied by setting `normalize=True`.\n",
        "    \"\"\"\n",
        "\n",
        "    plt.figure(figsize=(5,5))\n",
        "    plt.imshow(cm, interpolation='nearest', cmap=cmap)\n",
        "    plt.title(title)\n",
        "    plt.colorbar()\n",
        "\n",
        "    tick_marks = np.arange(len(classes))\n",
        "    plt.xticks(tick_marks, classes, rotation=45)\n",
        "    plt.yticks(tick_marks, classes)\n",
        "\n",
        "    if normalize:\n",
        "        cm = cm.astype('float') / cm.sum(axis=1)[:, np.newaxis]\n",
        "        cm = np.around(cm, decimals=2)\n",
        "        cm[np.isnan(cm)] = 0.0\n",
        "        print(\"Normalized confusion matrix\")\n",
        "    else:\n",
        "        print('Confusion matrix, without normalization')\n",
        "    thresh = cm.max() / 2.\n",
        "\n",
        "    for i, j in itertools.product(range(cm.shape[0]), range(cm.shape[1])):\n",
        "        plt.text(j, i, cm[i, j],\n",
        "                 horizontalalignment=\"center\",\n",
        "                 color=\"white\" if cm[i, j] > thresh else \"black\")\n",
        "\n",
        "    plt.tight_layout()\n",
        "    plt.ylabel('True label')\n",
        "    plt.xlabel('Predicted label')\n",
        "\n",
        "\n",
        "\n",
        "\n",
        "predict_x=global_model.predict(X_test) \n",
        "y_pred=np.argmax(predict_x,axis=1)\n",
        "\n",
        "y_testreport=np.argmax(y_test,axis=1)\n",
        "\n",
        "\n",
        "from sklearn.metrics import classification_report, confusion_matrix\n",
        "\n",
        "#Print Classification Report\n",
        "\n",
        "print('Classification Report')\n",
        "print(classification_report(y_testreport, y_pred, target_names=[\"lung_aca\", \"lung_n\", \"lung_scc\"]))"
      ],
      "metadata": {
        "colab": {
          "base_uri": "https://localhost:8080/"
        },
        "id": "tNdvli1fnhQ7",
        "outputId": "0c8a5404-c51c-40dc-bcff-f51e1e064998"
      },
      "execution_count": null,
      "outputs": [
        {
          "output_type": "stream",
          "name": "stdout",
          "text": [
            "19/19 [==============================] - 1s 55ms/step\n",
            "Classification Report\n",
            "              precision    recall  f1-score   support\n",
            "\n",
            "    lung_aca       0.87      1.00      0.93       192\n",
            "      lung_n       1.00      1.00      1.00       208\n",
            "    lung_scc       1.00      0.85      0.92       192\n",
            "\n",
            "    accuracy                           0.95       592\n",
            "   macro avg       0.96      0.95      0.95       592\n",
            "weighted avg       0.96      0.95      0.95       592\n",
            "\n"
          ]
        }
      ]
    },
    {
      "cell_type": "code",
      "source": [
        "import itertools\n",
        "print('Confusion Matrix')\n",
        "cm = confusion_matrix(y_testreport, y_pred)\n",
        "plot_confusion_matrix(cm, [\"yes\",\"no\"], title='Confusion Matrix')"
      ],
      "metadata": {
        "colab": {
          "base_uri": "https://localhost:8080/",
          "height": 404
        },
        "id": "-We7MlN7oRMC",
        "outputId": "f3af3cd0-a15d-4e77-8717-832eaf444c06"
      },
      "execution_count": null,
      "outputs": [
        {
          "output_type": "stream",
          "name": "stdout",
          "text": [
            "Confusion Matrix\n",
            "Confusion matrix, without normalization\n"
          ]
        },
        {
          "output_type": "display_data",
          "data": {
            "text/plain": [
              "<Figure size 360x360 with 2 Axes>"
            ],
            "image/png": "[encoded data removed]"
          },
          "metadata": {
            "needs_background": "light"
          }
        }
      ]
    }
  ]
}